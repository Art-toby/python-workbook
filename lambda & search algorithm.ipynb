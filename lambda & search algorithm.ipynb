{
 "cells": [
  {
   "cell_type": "code",
   "execution_count": 43,
   "id": "1595d01c",
   "metadata": {},
   "outputs": [
    {
     "data": {
      "text/plain": [
       "[289, 64, 81, 121, 144, 169, 1, 1681, 121, 1024, 1024, 1156, 9, 49]"
      ]
     },
     "execution_count": 43,
     "metadata": {},
     "output_type": "execute_result"
    }
   ],
   "source": [
    "b=[17,8,9,11,12,13,1,41,11,32,32,34,3,7]# using the lambda function to pass an operation on the entire list \n",
    "list(map(lambda a: a**2, b))# note: the list(map(lambda))"
   ]
  },
  {
   "cell_type": "code",
   "execution_count": 33,
   "id": "b3ff769d",
   "metadata": {},
   "outputs": [
    {
     "data": {
      "text/plain": [
       "[4, 9, 16, 25]"
      ]
     },
     "execution_count": 33,
     "metadata": {},
     "output_type": "execute_result"
    }
   ],
   "source": [
    "numbers = [2,3,4,5]\n",
    "\n",
    "list(map(lambda a: a**2, numbers))"
   ]
  },
  {
   "cell_type": "code",
   "execution_count": 38,
   "id": "89f966bb",
   "metadata": {},
   "outputs": [
    {
     "name": "stdout",
     "output_type": "stream",
     "text": [
      "[10, 8, 7, 5, 11]\n"
     ]
    }
   ],
   "source": [
    "sequences = [10,2,8,7,5,4,3,11,0, 1]\n",
    "#filter function is called in the lambda \n",
    "filtered_result = filter(lambda x: x > 4, sequences)\n",
    "# Filter takes an argument/function and an iteratable/sequence; in this case, the lambda acts as the filtering argument \n",
    "\n",
    "\n",
    "print(list(filtered_result))#note the list in the print "
   ]
  },
  {
   "cell_type": "code",
   "execution_count": 68,
   "id": "22510b6c",
   "metadata": {},
   "outputs": [
    {
     "data": {
      "text/plain": [
       "5.0"
      ]
     },
     "execution_count": 68,
     "metadata": {},
     "output_type": "execute_result"
    }
   ],
   "source": [
    "#to pass a function that produces just an output we dont need to enclse our lambda function with[]\n",
    "y_root= lambda x,y: x**(1/y)\n",
    "y_root(25,2)"
   ]
  },
  {
   "cell_type": "code",
   "execution_count": 50,
   "id": "aea9afb5",
   "metadata": {},
   "outputs": [
    {
     "name": "stdout",
     "output_type": "stream",
     "text": [
      "[10, 11, 12, 13, 17, 21]\n"
     ]
    }
   ],
   "source": [
    "list1 = [2, 6, 8, 10, 11, 4, 12, 7, 13, 17, 0, 3, 21]\n",
    "liste=filter(lambda b: b> 9, list1)#to filter a list by lambda function \n",
    "print(list(liste))"
   ]
  },
  {
   "cell_type": "code",
   "execution_count": 84,
   "id": "d4dbebc7",
   "metadata": {},
   "outputs": [
    {
     "name": "stdout",
     "output_type": "stream",
     "text": [
      "10\n",
      "11\n",
      "12\n",
      "13\n",
      "17\n",
      "21\n"
     ]
    }
   ],
   "source": [
    "list1 = [2, 6, 8, 10, 11, 4, 12, 7, 13, 17, 0, 3, 21]\n",
    "for i in list1:#filtering without the lambda function\n",
    "    i == list1\n",
    "    if i> 9:\n",
    "        print(i)"
   ]
  },
  {
   "cell_type": "code",
   "execution_count": 88,
   "id": "2b45e671",
   "metadata": {},
   "outputs": [],
   "source": [
    "list1 = [2, 6, 8, 10, 11, 4, 12, 7, 13, 17, 0, 3, 21]\n",
    "def ist(x):\n",
    "    ist== list1# STILL NEED TO WORK ON MY DEF FUNCTION\n",
    "    if ist>9:\n",
    "        print(list1)"
   ]
  },
  {
   "cell_type": "code",
   "execution_count": 56,
   "id": "f8529971",
   "metadata": {},
   "outputs": [
    {
     "data": {
      "text/plain": [
       "[0, 0, 0, 0, 1, 0, 0, 1, 1, 1, 0, 1, 1]"
      ]
     },
     "execution_count": 56,
     "metadata": {},
     "output_type": "execute_result"
    }
   ],
   "source": [
    "list2 = [2, 6, 8, 10, 11, 4, 12, 7, 13, 17, 0, 3, 21]\n",
    "list(map(lambda x: x%2, list2))"
   ]
  },
  {
   "cell_type": "code",
   "execution_count": 94,
   "id": "d2e4f794",
   "metadata": {},
   "outputs": [
    {
     "name": "stdout",
     "output_type": "stream",
     "text": [
      "[1, 2, 3, 5, 6, 9]\n"
     ]
    }
   ],
   "source": [
    "import numpy as np\n",
    "sort=([6,2,3,9,1,5])\n",
    "sort = list(map(lambda X:X, sort))\n",
    "sort.sort()\n",
    "print(sort)"
   ]
  },
  {
   "cell_type": "markdown",
   "id": "d45f1c51",
   "metadata": {},
   "source": [
    "# ALGORITHM (SEARCH)\n",
    "THIS IS  USED TO SEARCH FOR AN ELEMENT IN A LIST\n",
    "# linear_Search\n",
    "note the S is always "
   ]
  },
  {
   "cell_type": "markdown",
   "id": "f24688b9",
   "metadata": {},
   "source": [
    "# LINEAR SEARCH\n",
    "#LINEAR SEARCH\n",
    "As a result, linear search is not used often because the same efficiency may be achieved with Python's built-in search techniques. However, a linear search algorithm is useful to find the first occurrence of an element in an unsorted collection, unlike most other search algorithms that can only be applied to sorted collections"
   ]
  },
  {
   "cell_type": "code",
   "execution_count": 139,
   "id": "3e76fac2",
   "metadata": {
    "scrolled": true
   },
   "outputs": [
    {
     "name": "stdout",
     "output_type": "stream",
     "text": [
      "Element found at index:  3\n"
     ]
    }
   ],
   "source": [
    "list1 = [1 ,3, 5, 9, 4, 9, 4, 7, 9]  \n",
    "key = 9 \n",
    "      \n",
    "n = len(list1)  \n",
    "res = linear_Search(list1, key, n)  \n",
    "if(res == -1):  \n",
    "    print(\"Element not found\")  \n",
    "else:  \n",
    "    print(\"Element found at index: \", res)  "
   ]
  },
  {
   "cell_type": "code",
   "execution_count": 112,
   "id": "5d87f568",
   "metadata": {},
   "outputs": [
    {
     "name": "stdout",
     "output_type": "stream",
     "text": [
      "number of element in the list is:\n"
     ]
    }
   ],
   "source": [
    "list1 = [1 ,3, 5, 9, 4, 9, 4, 7, 9]  \n",
    "key = 9 \n",
    "n = list1.count(list1)\n",
    "res= linear_Search(list1, n, key)\n",
    "if (res <=0):\n",
    "    print('number of element in the list is:')\n",
    "else:\n",
    "    print('number of elements found is:', res)"
   ]
  },
  {
   "cell_type": "code",
   "execution_count": 117,
   "id": "2ff88ef6",
   "metadata": {},
   "outputs": [
    {
     "name": "stdout",
     "output_type": "stream",
     "text": [
      "4\n"
     ]
    }
   ],
   "source": [
    "# Python3 program to count\n",
    "# occurrences of an element\n",
    " \n",
    "# Returns number of times x\n",
    "# occurs in arr[0..n-1]\n",
    "def countOccurrences(arr, n, x):\n",
    "    res = 0\n",
    "    for i in range(n):\n",
    "        if x == arr[i]:\n",
    "            res += 1\n",
    "    return res\n",
    "# Driver code\n",
    "arr = [1, 2, 2, 2, 2, 3, 4, 7 ,8 ,8]\n",
    "n = len(arr)\n",
    "x = 2\n",
    "print (countOccurrences(arr, n, x))"
   ]
  },
  {
   "cell_type": "code",
   "execution_count": 138,
   "id": "6faa6ba3",
   "metadata": {},
   "outputs": [
    {
     "ename": "SyntaxError",
     "evalue": "'return' outside function (Temp/ipykernel_6028/1088033255.py, line 8)",
     "output_type": "error",
     "traceback": [
      "\u001b[1;36m  File \u001b[1;32m\"C:\\Users\\PC\\AppData\\Local\\Temp/ipykernel_6028/1088033255.py\"\u001b[1;36m, line \u001b[1;32m8\u001b[0m\n\u001b[1;33m    return res\u001b[0m\n\u001b[1;37m    ^\u001b[0m\n\u001b[1;31mSyntaxError\u001b[0m\u001b[1;31m:\u001b[0m 'return' outside function\n"
     ]
    }
   ],
   "source": [
    "key = 9\n",
    "n= len(list1)\n",
    "linear_Search( list1,n, key )\n",
    "res=0\n",
    "for i in range(list1):\n",
    "    if key== list1[i]:\n",
    "        res += 1\n",
    "    return res\n",
    "print(linear_Search(list1, key, n))\n",
    "  "
   ]
  },
  {
   "cell_type": "markdown",
   "id": "f520a4b1",
   "metadata": {},
   "source": [
    "# BASIC SEARCH\n",
    "The algorithm recursively or iteratively halves the list (or data structure) to narrow the search. So, with each additional divide, we have half the number of elements to search through for the target element. However, this means that the input list must be sorted for a binary search technique to work efficiently.\n",
    "\n",
    "The number of elements in the list, the location of the target element, and the number of iterations required to find the target value may differ, depending on if an iterative or recursive approach is used."
   ]
  },
  {
   "cell_type": "code",
   "execution_count": 17,
   "id": "37c71825",
   "metadata": {},
   "outputs": [
    {
     "name": "stdout",
     "output_type": "stream",
     "text": [
      "Element is present at index  6\n"
     ]
    }
   ],
   "source": [
    "# Binary Search in python\n",
    "                                #ITERATIVE METHOD\n",
    "\n",
    "def binarySearch(array, x, low, high):#binarySearch function\n",
    "\n",
    "    # Repeat until the pointers low and high meet each other\n",
    "    while low <= high:#iteration on the list. i.e repeat until the low and high met each other\n",
    "\n",
    "        mid = low + (high - low)//2#formula for getting the middle in a list: \n",
    "        #we couldnt use the common high + low/2 bcoz of a case where the number of elementd in the set is an even number\n",
    "\n",
    "        if array[mid] == x:#if the value we looking for is in the middle\n",
    "            return mid\n",
    "\n",
    "        elif array[mid] < x:#if the value we looking for is before the middle\n",
    "            low = mid + 1\n",
    "\n",
    "        else:\n",
    "            high = mid - 1#if the vale is after the middle\n",
    "\n",
    "    return -1 #RETURNING -1 WOULD PRINT NOT FOUND LOCATED AT OUR LAST LINE OF CODE\n",
    "\n",
    "\n",
    "array = [3, 4, 5, 6, 7, 8, 9]\n",
    "x = 9\n",
    "\n",
    "result = binarySearch(array, x, 0, len(array)-1)#LEN IS -1 BCOZ INDEXING SARTS WITH ZERO \n",
    "#the -1 rep the index of the last element n the cell\n",
    "\n",
    "if result != -1:#-1 being an index less than the first value in the list with an assumption of going left to right \n",
    "    #without negative indexing\n",
    "    print(\"Element is present at index \" ,result)\n",
    "else:\n",
    "        print(\"Not found\")"
   ]
  },
  {
   "cell_type": "code",
   "execution_count": 5,
   "id": "d2be83cb",
   "metadata": {},
   "outputs": [
    {
     "name": "stdout",
     "output_type": "stream",
     "text": [
      "Element is present at index 1\n"
     ]
    }
   ],
   "source": [
    "                            #RECURSIVE METHOD\n",
    "def binarySearch(array, x, low, high):\n",
    "\n",
    "    if high >= low:\n",
    "\n",
    "        mid = low + (high - low)//2\n",
    "\n",
    "        # If found at mid, then return it\n",
    "        if array[mid] == x:\n",
    "            return mid\n",
    "\n",
    "        # Search the left half\n",
    "        elif array[mid] > x:\n",
    "            return binarySearch(array, x, low, mid-1)\n",
    "\n",
    "        # Search the right half\n",
    "        else:\n",
    "            return binarySearch(array, x, mid + 1, high)\n",
    "\n",
    "    else:\n",
    "        return -1\n",
    "\n",
    "\n",
    "array = [3, 4, 5, 6, 7, 8, 9]\n",
    "x = 4\n",
    "\n",
    "result = binarySearch(array, x, 0, len(array)-1)\n",
    "\n",
    "if result != -1:\n",
    "    print(\"Element is present at index \" + str(result))\n",
    "else:\n",
    "    print(\"Not found\")"
   ]
  },
  {
   "cell_type": "code",
   "execution_count": 32,
   "id": "d37d3540",
   "metadata": {},
   "outputs": [
    {
     "ename": "TypeError",
     "evalue": "'list' object cannot be interpreted as an integer",
     "output_type": "error",
     "traceback": [
      "\u001b[1;31m---------------------------------------------------------------------------\u001b[0m",
      "\u001b[1;31mTypeError\u001b[0m                                 Traceback (most recent call last)",
      "\u001b[1;32m~\\AppData\\Local\\Temp/ipykernel_2672/1072729919.py\u001b[0m in \u001b[0;36m<module>\u001b[1;34m\u001b[0m\n\u001b[0;32m      1\u001b[0m \u001b[0mB\u001b[0m\u001b[1;33m=\u001b[0m \u001b[1;33m[\u001b[0m\u001b[1;36m1\u001b[0m\u001b[1;33m,\u001b[0m\u001b[1;36m2\u001b[0m\u001b[1;33m,\u001b[0m\u001b[1;36m3\u001b[0m\u001b[1;33m,\u001b[0m\u001b[1;36m4\u001b[0m\u001b[1;33m,\u001b[0m\u001b[1;36m5\u001b[0m\u001b[1;33m,\u001b[0m\u001b[1;36m7\u001b[0m\u001b[1;33m,\u001b[0m\u001b[1;36m8\u001b[0m\u001b[1;33m,\u001b[0m\u001b[1;36m9\u001b[0m\u001b[1;33m,\u001b[0m\u001b[1;36m0\u001b[0m\u001b[1;33m,\u001b[0m\u001b[1;36m2\u001b[0m\u001b[1;33m]\u001b[0m\u001b[1;33m\u001b[0m\u001b[1;33m\u001b[0m\u001b[0m\n\u001b[1;32m----> 2\u001b[1;33m \u001b[1;32mfor\u001b[0m \u001b[0mi\u001b[0m \u001b[1;32min\u001b[0m \u001b[0mrange\u001b[0m \u001b[1;33m(\u001b[0m\u001b[0mB\u001b[0m\u001b[1;33m)\u001b[0m\u001b[1;33m:\u001b[0m\u001b[1;33m\u001b[0m\u001b[1;33m\u001b[0m\u001b[0m\n\u001b[0m\u001b[0;32m      3\u001b[0m     \u001b[0mprint\u001b[0m\u001b[1;33m(\u001b[0m\u001b[0mlist\u001b[0m\u001b[1;33m(\u001b[0m\u001b[0mi\u001b[0m\u001b[1;33m**\u001b[0m\u001b[1;36m2\u001b[0m\u001b[1;33m)\u001b[0m\u001b[1;33m)\u001b[0m\u001b[1;33m\u001b[0m\u001b[1;33m\u001b[0m\u001b[0m\n",
      "\u001b[1;31mTypeError\u001b[0m: 'list' object cannot be interpreted as an integer"
     ]
    }
   ],
   "source": [
    "B= [1,2,3,4,5,7,8,9,0,2]\n",
    "for i in range (B):\n",
    "    print(list(i**2))"
   ]
  },
  {
   "cell_type": "code",
   "execution_count": 24,
   "id": "d1fb6dd2",
   "metadata": {},
   "outputs": [
    {
     "name": "stdout",
     "output_type": "stream",
     "text": [
      "0\n",
      "1\n",
      "2\n",
      "3\n",
      "4\n",
      "5\n"
     ]
    }
   ],
   "source": [
    "x = range(6)\n",
    "for n in x:\n",
    "  print(n)"
   ]
  },
  {
   "cell_type": "code",
   "execution_count": 25,
   "id": "9d300ad7",
   "metadata": {},
   "outputs": [
    {
     "name": "stdout",
     "output_type": "stream",
     "text": [
      "3\n",
      "4\n",
      "5\n"
     ]
    }
   ],
   "source": [
    "x = range(3, 6)\n",
    "for n in x:\n",
    "  print(n) "
   ]
  },
  {
   "cell_type": "code",
   "execution_count": 27,
   "id": "d4ee8843",
   "metadata": {},
   "outputs": [
    {
     "name": "stdout",
     "output_type": "stream",
     "text": [
      "9\n",
      "25\n",
      "49\n",
      "81\n",
      "121\n",
      "169\n",
      "225\n",
      "289\n",
      "361\n"
     ]
    }
   ],
   "source": [
    "x = range(3, 20, 2)\n",
    "for n in x:\n",
    "  print(n**2)"
   ]
  },
  {
   "cell_type": "code",
   "execution_count": 1,
   "id": "e46b6aa5",
   "metadata": {},
   "outputs": [
    {
     "ename": "SyntaxError",
     "evalue": "invalid syntax (Temp/ipykernel_10372/3423184446.py, line 1)",
     "output_type": "error",
     "traceback": [
      "\u001b[1;36m  File \u001b[1;32m\"C:\\Users\\PC\\AppData\\Local\\Temp/ipykernel_10372/3423184446.py\"\u001b[1;36m, line \u001b[1;32m1\u001b[0m\n\u001b[1;33m    y= lambda x: for x in range(3,20,3)# work\u001b[0m\n\u001b[1;37m                 ^\u001b[0m\n\u001b[1;31mSyntaxError\u001b[0m\u001b[1;31m:\u001b[0m invalid syntax\n"
     ]
    }
   ],
   "source": [
    "y= lambda x: for x in range(3,20,3)# work\n",
    "print(y)"
   ]
  },
  {
   "cell_type": "markdown",
   "id": "e04355cc",
   "metadata": {},
   "source": [
    "# Time complexity\n",
    "\n",
    "A binary search algorithm reduces the input size in each step by halving it, so the required effort decreases with each division.\n",
    "To visualise the time complexities of the algorithms, we will conduct a simple experiment to obtain empirical evidence of the claimed complexities. In the experiment, we will generate lists of varying lengths and observe the time it takes to locate an element within the list."
   ]
  },
  {
   "cell_type": "markdown",
   "id": "654a6990",
   "metadata": {},
   "source": [
    "The time complexity graphs generated from the two search algorithms highlight the stark difference in compute times, with binary search clearly showing to be more efficient than your normal linear search. Since the binary search is logarithmic (O(logn)) in nature, it is important to notice that as the size of the list doubles the time taken to find an element only increases by a fraction. This is because after doubling the size of the list the algorithm will only take one additional iteration to find the required element"
   ]
  },
  {
   "cell_type": "code",
   "execution_count": null,
   "id": "ed733f67",
   "metadata": {},
   "outputs": [],
   "source": []
  }
 ],
 "metadata": {
  "kernelspec": {
   "display_name": "Python 3 (ipykernel)",
   "language": "python",
   "name": "python3"
  },
  "language_info": {
   "codemirror_mode": {
    "name": "ipython",
    "version": 3
   },
   "file_extension": ".py",
   "mimetype": "text/x-python",
   "name": "python",
   "nbconvert_exporter": "python",
   "pygments_lexer": "ipython3",
   "version": "3.9.7"
  }
 },
 "nbformat": 4,
 "nbformat_minor": 5
}
